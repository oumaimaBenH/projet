{
 "cells": [
  {
   "cell_type": "markdown",
   "id": "80274754",
   "metadata": {},
   "source": [
    "# Introduction"
   ]
  },
  {
   "cell_type": "markdown",
   "id": "f382460b",
   "metadata": {},
   "source": [
    " * L'ensemble de données contient des détails sur l'achat d'un produit basé sur des publicités sur les réseaux sociaux en fonction du sexe, de l'âge et du salaire estimé.\n",
    "\n",
    " * La classe cible appartient à deux catégories distinctes d'acheté et non acheté.\n",
    "\n",
    " * Dans ce cahier, la prédiction est faite si une personne achètera un produit affiché sur une publicité de réseau social en utilisant K voisin le plus proche, SVM et Kernal SVM. En outre, le réglage des hyperparamètres est effectué pour SVM afin de choisir un ensemble d'hyperparamètres optima"
   ]
  },
  {
   "cell_type": "markdown",
   "id": "e2f9ffc2",
   "metadata": {},
   "source": [
    "# 2.Importation de bibliothèques et de fichiers de données "
   ]
  },
  {
   "cell_type": "code",
   "execution_count": 58,
   "id": "757cb9af",
   "metadata": {},
   "outputs": [],
   "source": [
    "# Linear algebra\n",
    "import numpy as np\n",
    "\n",
    "# Data processing\n",
    "import pandas as pd\n",
    "\n",
    "#Libraries for visualisation\n",
    "import seaborn as sns\n",
    "import matplotlib.pyplot as plt\n",
    "\n",
    "#Feature Scaling\n",
    "from sklearn.preprocessing import StandardScaler\n",
    "\n",
    "#Train and Test split\n",
    "from sklearn.model_selection import train_test_split\n",
    "\n",
    "#Classification\n",
    "from sklearn.neighbors import KNeighborsClassifier\n",
    "from sklearn.svm import SVC\n",
    "\n",
    "#Hyperparameter Tuning\n",
    "from sklearn.model_selection import GridSearchCV\n",
    "\n",
    "#Evaluation\n",
    "from sklearn.metrics import confusion_matrix, accuracy_score, classification_report,recall_score,precision_score"
   ]
  },
  {
   "cell_type": "raw",
   "id": "171d40a8",
   "metadata": {},
   "source": [
    "df = pd.read_csv('Social_Network_Ads.csv')"
   ]
  },
  {
   "cell_type": "markdown",
   "id": "8ab6af58",
   "metadata": {},
   "source": [
    "# 3.Analyse des ensembles de données"
   ]
  },
  {
   "cell_type": "code",
   "execution_count": 3,
   "id": "684105a6",
   "metadata": {},
   "outputs": [
    {
     "name": "stdout",
     "output_type": "stream",
     "text": [
      "Number of rows is =  400  \n",
      "Number of columns is =  5\n"
     ]
    }
   ],
   "source": [
    "print(\"Number of rows is = \", df.shape[0], \" \\nNumber of columns is = \" , df.shape[1]) "
   ]
  },
  {
   "cell_type": "code",
   "execution_count": 4,
   "id": "b052fe8b",
   "metadata": {},
   "outputs": [
    {
     "data": {
      "text/plain": [
       "Index(['User ID', 'Gender', 'Age', 'EstimatedSalary', 'Purchased'], dtype='object')"
      ]
     },
     "execution_count": 4,
     "metadata": {},
     "output_type": "execute_result"
    }
   ],
   "source": [
    "df.columns"
   ]
  },
  {
   "cell_type": "code",
   "execution_count": 5,
   "id": "286ef0f4",
   "metadata": {},
   "outputs": [
    {
     "data": {
      "text/html": [
       "<style type=\"text/css\">\n",
       "#T_2804f_row0_col0 {\n",
       "  background-color: #5a78e4;\n",
       "  color: #f1f1f1;\n",
       "}\n",
       "#T_2804f_row0_col2, #T_2804f_row0_col3, #T_2804f_row0_col4, #T_2804f_row1_col4, #T_2804f_row2_col4, #T_2804f_row3_col0, #T_2804f_row3_col4, #T_2804f_row4_col2, #T_2804f_row4_col4 {\n",
       "  background-color: #3b4cc0;\n",
       "  color: #f1f1f1;\n",
       "}\n",
       "#T_2804f_row1_col0, #T_2804f_row1_col2, #T_2804f_row4_col3 {\n",
       "  background-color: #b40426;\n",
       "  color: #f1f1f1;\n",
       "}\n",
       "#T_2804f_row1_col3 {\n",
       "  background-color: #3f53c6;\n",
       "  color: #f1f1f1;\n",
       "}\n",
       "#T_2804f_row2_col0 {\n",
       "  background-color: #a3c2fe;\n",
       "  color: #000000;\n",
       "}\n",
       "#T_2804f_row2_col2 {\n",
       "  background-color: #ccd9ed;\n",
       "  color: #000000;\n",
       "}\n",
       "#T_2804f_row2_col3 {\n",
       "  background-color: #c6d6f1;\n",
       "  color: #000000;\n",
       "}\n",
       "#T_2804f_row3_col2 {\n",
       "  background-color: #dddcdc;\n",
       "  color: #000000;\n",
       "}\n",
       "#T_2804f_row3_col3 {\n",
       "  background-color: #f7b89c;\n",
       "  color: #000000;\n",
       "}\n",
       "#T_2804f_row4_col0 {\n",
       "  background-color: #c0282f;\n",
       "  color: #f1f1f1;\n",
       "}\n",
       "</style>\n",
       "<table id=\"T_2804f_\">\n",
       "  <thead>\n",
       "    <tr>\n",
       "      <th class=\"blank level0\" >&nbsp;</th>\n",
       "      <th class=\"col_heading level0 col0\" >User ID</th>\n",
       "      <th class=\"col_heading level0 col1\" >Gender</th>\n",
       "      <th class=\"col_heading level0 col2\" >Age</th>\n",
       "      <th class=\"col_heading level0 col3\" >EstimatedSalary</th>\n",
       "      <th class=\"col_heading level0 col4\" >Purchased</th>\n",
       "    </tr>\n",
       "  </thead>\n",
       "  <tbody>\n",
       "    <tr>\n",
       "      <th id=\"T_2804f_level0_row0\" class=\"row_heading level0 row0\" >0</th>\n",
       "      <td id=\"T_2804f_row0_col0\" class=\"data row0 col0\" >15624510</td>\n",
       "      <td id=\"T_2804f_row0_col1\" class=\"data row0 col1\" >Male</td>\n",
       "      <td id=\"T_2804f_row0_col2\" class=\"data row0 col2\" >19</td>\n",
       "      <td id=\"T_2804f_row0_col3\" class=\"data row0 col3\" >19000</td>\n",
       "      <td id=\"T_2804f_row0_col4\" class=\"data row0 col4\" >0</td>\n",
       "    </tr>\n",
       "    <tr>\n",
       "      <th id=\"T_2804f_level0_row1\" class=\"row_heading level0 row1\" >1</th>\n",
       "      <td id=\"T_2804f_row1_col0\" class=\"data row1 col0\" >15810944</td>\n",
       "      <td id=\"T_2804f_row1_col1\" class=\"data row1 col1\" >Male</td>\n",
       "      <td id=\"T_2804f_row1_col2\" class=\"data row1 col2\" >35</td>\n",
       "      <td id=\"T_2804f_row1_col3\" class=\"data row1 col3\" >20000</td>\n",
       "      <td id=\"T_2804f_row1_col4\" class=\"data row1 col4\" >0</td>\n",
       "    </tr>\n",
       "    <tr>\n",
       "      <th id=\"T_2804f_level0_row2\" class=\"row_heading level0 row2\" >2</th>\n",
       "      <td id=\"T_2804f_row2_col0\" class=\"data row2 col0\" >15668575</td>\n",
       "      <td id=\"T_2804f_row2_col1\" class=\"data row2 col1\" >Female</td>\n",
       "      <td id=\"T_2804f_row2_col2\" class=\"data row2 col2\" >26</td>\n",
       "      <td id=\"T_2804f_row2_col3\" class=\"data row2 col3\" >43000</td>\n",
       "      <td id=\"T_2804f_row2_col4\" class=\"data row2 col4\" >0</td>\n",
       "    </tr>\n",
       "    <tr>\n",
       "      <th id=\"T_2804f_level0_row3\" class=\"row_heading level0 row3\" >3</th>\n",
       "      <td id=\"T_2804f_row3_col0\" class=\"data row3 col0\" >15603246</td>\n",
       "      <td id=\"T_2804f_row3_col1\" class=\"data row3 col1\" >Female</td>\n",
       "      <td id=\"T_2804f_row3_col2\" class=\"data row3 col2\" >27</td>\n",
       "      <td id=\"T_2804f_row3_col3\" class=\"data row3 col3\" >57000</td>\n",
       "      <td id=\"T_2804f_row3_col4\" class=\"data row3 col4\" >0</td>\n",
       "    </tr>\n",
       "    <tr>\n",
       "      <th id=\"T_2804f_level0_row4\" class=\"row_heading level0 row4\" >4</th>\n",
       "      <td id=\"T_2804f_row4_col0\" class=\"data row4 col0\" >15804002</td>\n",
       "      <td id=\"T_2804f_row4_col1\" class=\"data row4 col1\" >Male</td>\n",
       "      <td id=\"T_2804f_row4_col2\" class=\"data row4 col2\" >19</td>\n",
       "      <td id=\"T_2804f_row4_col3\" class=\"data row4 col3\" >76000</td>\n",
       "      <td id=\"T_2804f_row4_col4\" class=\"data row4 col4\" >0</td>\n",
       "    </tr>\n",
       "  </tbody>\n",
       "</table>\n"
      ],
      "text/plain": [
       "<pandas.io.formats.style.Styler at 0x287f5d528e0>"
      ]
     },
     "execution_count": 5,
     "metadata": {},
     "output_type": "execute_result"
    }
   ],
   "source": [
    "df.head().style.background_gradient(cmap='coolwarm')"
   ]
  },
  {
   "cell_type": "code",
   "execution_count": 6,
   "id": "7bf0ccb3",
   "metadata": {},
   "outputs": [
    {
     "data": {
      "text/html": [
       "<style type=\"text/css\">\n",
       "#T_2e48d_row0_col0, #T_2e48d_row1_col0, #T_2e48d_row1_col1, #T_2e48d_row1_col2, #T_2e48d_row1_col3, #T_2e48d_row1_col4, #T_2e48d_row1_col5, #T_2e48d_row1_col6, #T_2e48d_row1_col7, #T_2e48d_row2_col0, #T_2e48d_row2_col3, #T_2e48d_row2_col4, #T_2e48d_row3_col0, #T_2e48d_row3_col1, #T_2e48d_row3_col2, #T_2e48d_row3_col3, #T_2e48d_row3_col4, #T_2e48d_row3_col5, #T_2e48d_row3_col6, #T_2e48d_row3_col7 {\n",
       "  background-color: #3b4cc0;\n",
       "  color: #f1f1f1;\n",
       "}\n",
       "#T_2e48d_row0_col1, #T_2e48d_row0_col2, #T_2e48d_row0_col3, #T_2e48d_row0_col4, #T_2e48d_row0_col5, #T_2e48d_row0_col6, #T_2e48d_row0_col7 {\n",
       "  background-color: #b40426;\n",
       "  color: #f1f1f1;\n",
       "}\n",
       "#T_2e48d_row2_col1, #T_2e48d_row2_col5, #T_2e48d_row2_col6 {\n",
       "  background-color: #3c4ec2;\n",
       "  color: #f1f1f1;\n",
       "}\n",
       "#T_2e48d_row2_col2 {\n",
       "  background-color: #d6dce4;\n",
       "  color: #000000;\n",
       "}\n",
       "#T_2e48d_row2_col7 {\n",
       "  background-color: #3d50c3;\n",
       "  color: #f1f1f1;\n",
       "}\n",
       "</style>\n",
       "<table id=\"T_2e48d_\">\n",
       "  <thead>\n",
       "    <tr>\n",
       "      <th class=\"blank level0\" >&nbsp;</th>\n",
       "      <th class=\"col_heading level0 col0\" >count</th>\n",
       "      <th class=\"col_heading level0 col1\" >mean</th>\n",
       "      <th class=\"col_heading level0 col2\" >std</th>\n",
       "      <th class=\"col_heading level0 col3\" >min</th>\n",
       "      <th class=\"col_heading level0 col4\" >25%</th>\n",
       "      <th class=\"col_heading level0 col5\" >50%</th>\n",
       "      <th class=\"col_heading level0 col6\" >75%</th>\n",
       "      <th class=\"col_heading level0 col7\" >max</th>\n",
       "    </tr>\n",
       "  </thead>\n",
       "  <tbody>\n",
       "    <tr>\n",
       "      <th id=\"T_2e48d_level0_row0\" class=\"row_heading level0 row0\" >User ID</th>\n",
       "      <td id=\"T_2e48d_row0_col0\" class=\"data row0 col0\" >400.000000</td>\n",
       "      <td id=\"T_2e48d_row0_col1\" class=\"data row0 col1\" >15691539.757500</td>\n",
       "      <td id=\"T_2e48d_row0_col2\" class=\"data row0 col2\" >71658.321581</td>\n",
       "      <td id=\"T_2e48d_row0_col3\" class=\"data row0 col3\" >15566689.000000</td>\n",
       "      <td id=\"T_2e48d_row0_col4\" class=\"data row0 col4\" >15626763.750000</td>\n",
       "      <td id=\"T_2e48d_row0_col5\" class=\"data row0 col5\" >15694341.500000</td>\n",
       "      <td id=\"T_2e48d_row0_col6\" class=\"data row0 col6\" >15750363.000000</td>\n",
       "      <td id=\"T_2e48d_row0_col7\" class=\"data row0 col7\" >15815236.000000</td>\n",
       "    </tr>\n",
       "    <tr>\n",
       "      <th id=\"T_2e48d_level0_row1\" class=\"row_heading level0 row1\" >Age</th>\n",
       "      <td id=\"T_2e48d_row1_col0\" class=\"data row1 col0\" >400.000000</td>\n",
       "      <td id=\"T_2e48d_row1_col1\" class=\"data row1 col1\" >37.655000</td>\n",
       "      <td id=\"T_2e48d_row1_col2\" class=\"data row1 col2\" >10.482877</td>\n",
       "      <td id=\"T_2e48d_row1_col3\" class=\"data row1 col3\" >18.000000</td>\n",
       "      <td id=\"T_2e48d_row1_col4\" class=\"data row1 col4\" >29.750000</td>\n",
       "      <td id=\"T_2e48d_row1_col5\" class=\"data row1 col5\" >37.000000</td>\n",
       "      <td id=\"T_2e48d_row1_col6\" class=\"data row1 col6\" >46.000000</td>\n",
       "      <td id=\"T_2e48d_row1_col7\" class=\"data row1 col7\" >60.000000</td>\n",
       "    </tr>\n",
       "    <tr>\n",
       "      <th id=\"T_2e48d_level0_row2\" class=\"row_heading level0 row2\" >EstimatedSalary</th>\n",
       "      <td id=\"T_2e48d_row2_col0\" class=\"data row2 col0\" >400.000000</td>\n",
       "      <td id=\"T_2e48d_row2_col1\" class=\"data row2 col1\" >69742.500000</td>\n",
       "      <td id=\"T_2e48d_row2_col2\" class=\"data row2 col2\" >34096.960282</td>\n",
       "      <td id=\"T_2e48d_row2_col3\" class=\"data row2 col3\" >15000.000000</td>\n",
       "      <td id=\"T_2e48d_row2_col4\" class=\"data row2 col4\" >43000.000000</td>\n",
       "      <td id=\"T_2e48d_row2_col5\" class=\"data row2 col5\" >70000.000000</td>\n",
       "      <td id=\"T_2e48d_row2_col6\" class=\"data row2 col6\" >88000.000000</td>\n",
       "      <td id=\"T_2e48d_row2_col7\" class=\"data row2 col7\" >150000.000000</td>\n",
       "    </tr>\n",
       "    <tr>\n",
       "      <th id=\"T_2e48d_level0_row3\" class=\"row_heading level0 row3\" >Purchased</th>\n",
       "      <td id=\"T_2e48d_row3_col0\" class=\"data row3 col0\" >400.000000</td>\n",
       "      <td id=\"T_2e48d_row3_col1\" class=\"data row3 col1\" >0.357500</td>\n",
       "      <td id=\"T_2e48d_row3_col2\" class=\"data row3 col2\" >0.479864</td>\n",
       "      <td id=\"T_2e48d_row3_col3\" class=\"data row3 col3\" >0.000000</td>\n",
       "      <td id=\"T_2e48d_row3_col4\" class=\"data row3 col4\" >0.000000</td>\n",
       "      <td id=\"T_2e48d_row3_col5\" class=\"data row3 col5\" >0.000000</td>\n",
       "      <td id=\"T_2e48d_row3_col6\" class=\"data row3 col6\" >1.000000</td>\n",
       "      <td id=\"T_2e48d_row3_col7\" class=\"data row3 col7\" >1.000000</td>\n",
       "    </tr>\n",
       "  </tbody>\n",
       "</table>\n"
      ],
      "text/plain": [
       "<pandas.io.formats.style.Styler at 0x287f5cc27f0>"
      ]
     },
     "execution_count": 6,
     "metadata": {},
     "output_type": "execute_result"
    }
   ],
   "source": [
    "df.describe().T.style.background_gradient(cmap='coolwarm')"
   ]
  },
  {
   "cell_type": "code",
   "execution_count": 7,
   "id": "d0d4539d",
   "metadata": {},
   "outputs": [
    {
     "data": {
      "text/plain": [
       "0"
      ]
     },
     "execution_count": 7,
     "metadata": {},
     "output_type": "execute_result"
    }
   ],
   "source": [
    "df.duplicated().sum()"
   ]
  },
  {
   "cell_type": "markdown",
   "id": "bcb39b2b",
   "metadata": {},
   "source": [
    "# 4. Analyse des valeurs manquantes"
   ]
  },
  {
   "cell_type": "code",
   "execution_count": 8,
   "id": "c370aca2",
   "metadata": {},
   "outputs": [
    {
     "data": {
      "text/plain": [
       "User ID            0\n",
       "Gender             0\n",
       "Age                0\n",
       "EstimatedSalary    0\n",
       "Purchased          0\n",
       "dtype: int64"
      ]
     },
     "execution_count": 8,
     "metadata": {},
     "output_type": "execute_result"
    }
   ],
   "source": [
    "df.isnull().sum()"
   ]
  },
  {
   "cell_type": "markdown",
   "id": "6f53afcd",
   "metadata": {},
   "source": [
    "* Il n'y a pas de valeur manquante dans le jeu de données. "
   ]
  },
  {
   "cell_type": "markdown",
   "id": "e40863ef",
   "metadata": {},
   "source": [
    "# 5. Carte thermique"
   ]
  },
  {
   "cell_type": "code",
   "execution_count": 9,
   "id": "f0caf547",
   "metadata": {},
   "outputs": [
    {
     "data": {
      "image/png": "[encoded data removed]",
      "text/plain": [
       "<Figure size 720x360 with 2 Axes>"
      ]
     },
     "metadata": {
      "needs_background": "light"
     },
     "output_type": "display_data"
    }
   ],
   "source": [
    "plt.figure(figsize=(10, 5))\n",
    "mask = np.triu(np.ones_like(df.corr(), dtype=bool))\n",
    "sns.heatmap(df.corr(), mask = mask, annot=True, cmap='Dark2');"
   ]
  },
  {
   "cell_type": "code",
   "execution_count": 10,
   "id": "605b5855",
   "metadata": {},
   "outputs": [
    {
     "data": {
      "text/html": [
       "<div>\n",
       "<style scoped>\n",
       "    .dataframe tbody tr th:only-of-type {\n",
       "        vertical-align: middle;\n",
       "    }\n",
       "\n",
       "    .dataframe tbody tr th {\n",
       "        vertical-align: top;\n",
       "    }\n",
       "\n",
       "    .dataframe thead th {\n",
       "        text-align: right;\n",
       "    }\n",
       "</style>\n",
       "<table border=\"1\" class=\"dataframe\">\n",
       "  <thead>\n",
       "    <tr style=\"text-align: right;\">\n",
       "      <th></th>\n",
       "      <th>Purchased</th>\n",
       "    </tr>\n",
       "  </thead>\n",
       "  <tbody>\n",
       "    <tr>\n",
       "      <th>User ID</th>\n",
       "      <td>0.007120</td>\n",
       "    </tr>\n",
       "    <tr>\n",
       "      <th>Age</th>\n",
       "      <td>0.622454</td>\n",
       "    </tr>\n",
       "    <tr>\n",
       "      <th>EstimatedSalary</th>\n",
       "      <td>0.362083</td>\n",
       "    </tr>\n",
       "    <tr>\n",
       "      <th>Purchased</th>\n",
       "      <td>1.000000</td>\n",
       "    </tr>\n",
       "  </tbody>\n",
       "</table>\n",
       "</div>"
      ],
      "text/plain": [
       "                 Purchased\n",
       "User ID           0.007120\n",
       "Age               0.622454\n",
       "EstimatedSalary   0.362083\n",
       "Purchased         1.000000"
      ]
     },
     "execution_count": 10,
     "metadata": {},
     "output_type": "execute_result"
    }
   ],
   "source": [
    "correlation = pd.DataFrame(df.corr().Purchased)\n",
    "correlation"
   ]
  },
  {
   "cell_type": "raw",
   "id": "ff7b0280",
   "metadata": {},
   "source": [
    "La colonne ID utilisateur n'a aucune importance dans la détermination de la cible, elle peut donc être supprimée."
   ]
  },
  {
   "cell_type": "code",
   "execution_count": 11,
   "id": "402c0fb2",
   "metadata": {},
   "outputs": [],
   "source": [
    "df.drop('User ID', axis = 1, inplace=True)"
   ]
  },
  {
   "cell_type": "markdown",
   "id": "20ebb091",
   "metadata": {},
   "source": [
    "# 6. Analyse et visualisation de la cible"
   ]
  },
  {
   "cell_type": "code",
   "execution_count": 12,
   "id": "0749c5c8",
   "metadata": {},
   "outputs": [
    {
     "data": {
      "text/plain": [
       "0    257\n",
       "1    143\n",
       "Name: Purchased, dtype: int64"
      ]
     },
     "execution_count": 12,
     "metadata": {},
     "output_type": "execute_result"
    }
   ],
   "source": [
    "df['Purchased'].value_counts()"
   ]
  },
  {
   "cell_type": "code",
   "execution_count": 13,
   "id": "590ea202",
   "metadata": {},
   "outputs": [
    {
     "data": {
      "image/png": "[encoded data removed]",
      "text/plain": [
       "<Figure size 720x216 with 1 Axes>"
      ]
     },
     "metadata": {
      "needs_background": "light"
     },
     "output_type": "display_data"
    }
   ],
   "source": [
    "plt.figure(figsize=(10, 3))\n",
    "sns.countplot(x = \"Purchased\",data=df, palette=\"Dark2\")\n",
    "plt.show()"
   ]
  },
  {
   "cell_type": "raw",
   "id": "188842ca",
   "metadata": {},
   "source": [
    "D'après la visualisation ci-dessus, il est clair que le nombre de clients achetés à partir de la publicité sur les réseaux sociaux est bien inférieur au nombre total de clients qui ont vu la publicité."
   ]
  },
  {
   "cell_type": "markdown",
   "id": "a061a787",
   "metadata": {},
   "source": [
    "# Visualisation et analyse statistique de la cible par rapport au genre"
   ]
  },
  {
   "cell_type": "code",
   "execution_count": 14,
   "id": "a3eb87db",
   "metadata": {},
   "outputs": [
    {
     "data": {
      "text/plain": [
       "<Figure size 720x216 with 0 Axes>"
      ]
     },
     "metadata": {},
     "output_type": "display_data"
    },
    {
     "data": {
      "image/png": "[encoded data removed]",
      "text/plain": [
       "<Figure size 720x360 with 2 Axes>"
      ]
     },
     "metadata": {
      "needs_background": "light"
     },
     "output_type": "display_data"
    }
   ],
   "source": [
    "plt.figure(figsize=(10, 3))\n",
    "sns.catplot(x='Purchased', col='Gender', kind='count', data=df,palette=\"Dark2\");\n",
    "plt.show()"
   ]
  },
  {
   "cell_type": "code",
   "execution_count": 15,
   "id": "2eca2726",
   "metadata": {},
   "outputs": [
    {
     "data": {
      "text/html": [
       "<style type=\"text/css\">\n",
       "#T_54ad7_row0_col0, #T_54ad7_row1_col1 {\n",
       "  background-color: #a5cd90;\n",
       "  color: #000000;\n",
       "}\n",
       "#T_54ad7_row0_col1, #T_54ad7_row1_col0 {\n",
       "  background-color: #2c3172;\n",
       "  color: #f1f1f1;\n",
       "}\n",
       "</style>\n",
       "<table id=\"T_54ad7_\">\n",
       "  <thead>\n",
       "    <tr>\n",
       "      <th class=\"index_name level0\" >Purchased</th>\n",
       "      <th class=\"col_heading level0 col0\" >0</th>\n",
       "      <th class=\"col_heading level0 col1\" >1</th>\n",
       "    </tr>\n",
       "    <tr>\n",
       "      <th class=\"index_name level0\" >Gender</th>\n",
       "      <th class=\"blank col0\" >&nbsp;</th>\n",
       "      <th class=\"blank col1\" >&nbsp;</th>\n",
       "    </tr>\n",
       "  </thead>\n",
       "  <tbody>\n",
       "    <tr>\n",
       "      <th id=\"T_54ad7_level0_row0\" class=\"row_heading level0 row0\" >Female</th>\n",
       "      <td id=\"T_54ad7_row0_col0\" class=\"data row0 col0\" >0.622549</td>\n",
       "      <td id=\"T_54ad7_row0_col1\" class=\"data row0 col1\" >0.377451</td>\n",
       "    </tr>\n",
       "    <tr>\n",
       "      <th id=\"T_54ad7_level0_row1\" class=\"row_heading level0 row1\" >Male</th>\n",
       "      <td id=\"T_54ad7_row1_col0\" class=\"data row1 col0\" >0.663265</td>\n",
       "      <td id=\"T_54ad7_row1_col1\" class=\"data row1 col1\" >0.336735</td>\n",
       "    </tr>\n",
       "  </tbody>\n",
       "</table>\n"
      ],
      "text/plain": [
       "<pandas.io.formats.style.Styler at 0x28783802fa0>"
      ]
     },
     "execution_count": 15,
     "metadata": {},
     "output_type": "execute_result"
    }
   ],
   "source": [
    "pd.crosstab(df.Gender,df.Purchased,normalize = \"index\" ).style.background_gradient(cmap='crest')"
   ]
  },
  {
   "cell_type": "raw",
   "id": "7c6c5215",
   "metadata": {},
   "source": [
    "37,74 % des clientes ont acheté un produit à partir d'une publicité sur les réseaux sociaux, alors que seulement 33,67 % des clients masculins ont acheté à partir d'une publicité sur les réseaux sociaux.\n"
   ]
  },
  {
   "cell_type": "markdown",
   "id": "1ec3d129",
   "metadata": {},
   "source": [
    "# Répartition et visualisation de l'âge et du salaire estimé\n"
   ]
  },
  {
   "cell_type": "code",
   "execution_count": 16,
   "id": "c03c0411",
   "metadata": {},
   "outputs": [
    {
     "data": {
      "text/plain": [
       "<AxesSubplot:xlabel='Age', ylabel='Count'>"
      ]
     },
     "execution_count": 16,
     "metadata": {},
     "output_type": "execute_result"
    },
    {
     "data": {
      "image/png": "[encoded data removed]",
      "text/plain": [
       "<Figure size 432x288 with 1 Axes>"
      ]
     },
     "metadata": {
      "needs_background": "light"
     },
     "output_type": "display_data"
    }
   ],
   "source": [
    "sns.histplot(df['Age'],kde=True,color='purple',bins=30)"
   ]
  },
  {
   "cell_type": "code",
   "execution_count": 17,
   "id": "b22efd68",
   "metadata": {},
   "outputs": [
    {
     "data": {
      "text/plain": [
       "<AxesSubplot:xlabel='EstimatedSalary', ylabel='Count'>"
      ]
     },
     "execution_count": 17,
     "metadata": {},
     "output_type": "execute_result"
    },
    {
     "data": {
      "image/png": "[encoded data removed]",
      "text/plain": [
       "<Figure size 432x288 with 1 Axes>"
      ]
     },
     "metadata": {
      "needs_background": "light"
     },
     "output_type": "display_data"
    }
   ],
   "source": [
    "sns.histplot(df['EstimatedSalary'],kde=True,color='purple',bins=30)"
   ]
  },
  {
   "cell_type": "raw",
   "id": "db2d6d4f",
   "metadata": {},
   "source": [
    "L'inclinaison est vers le groupe d'âge 35-38 ans et l'inclinaison salariale estimée est d'environ 70 000 à 90 000\n"
   ]
  },
  {
   "cell_type": "markdown",
   "id": "bf517577",
   "metadata": {},
   "source": [
    "# Paire de tracé de l'âge et du salaire estimé avec la cible\n"
   ]
  },
  {
   "cell_type": "code",
   "execution_count": 18,
   "id": "40f80eb4",
   "metadata": {},
   "outputs": [
    {
     "data": {
      "text/plain": [
       "<seaborn.axisgrid.PairGrid at 0x28783920bb0>"
      ]
     },
     "execution_count": 18,
     "metadata": {},
     "output_type": "execute_result"
    },
    {
     "data": {
      "image/png": "[encoded data removed]",
      "text/plain": [
       "<Figure size 419.875x360 with 5 Axes>"
      ]
     },
     "metadata": {
      "needs_background": "light"
     },
     "output_type": "display_data"
    }
   ],
   "source": [
    "sns.pairplot(df , hue = 'Purchased',palette='Dark2',corner=True )"
   ]
  },
  {
   "cell_type": "markdown",
   "id": "5dc60ad6",
   "metadata": {},
   "source": [
    "# Nuage de points de l'âge et du salaire estimé par rapport à la cible\n"
   ]
  },
  {
   "cell_type": "code",
   "execution_count": 19,
   "id": "cd99a8e2",
   "metadata": {},
   "outputs": [
    {
     "data": {
      "text/plain": [
       "<AxesSubplot:xlabel='Age', ylabel='EstimatedSalary'>"
      ]
     },
     "execution_count": 19,
     "metadata": {},
     "output_type": "execute_result"
    },
    {
     "data": {
      "image/png": "[encoded data removed]",
      "text/plain": [
       "<Figure size 432x288 with 1 Axes>"
      ]
     },
     "metadata": {
      "needs_background": "light"
     },
     "output_type": "display_data"
    }
   ],
   "source": [
    "sns.scatterplot(x = 'Age',y = 'EstimatedSalary', data = df, hue = 'Purchased', palette ='Dark2')"
   ]
  },
  {
   "cell_type": "raw",
   "id": "e4b6248e",
   "metadata": {},
   "source": [
    "From pair plot and scatter plot it is clear that if scaling is not done, Estimated Salary will dominate Age, which will result in a biased model. Feature Scaling will be done after splitting the model into training and test set.\n",
    "\n"
   ]
  },
  {
   "cell_type": "markdown",
   "id": "7beef9ed",
   "metadata": {},
   "source": [
    "# 7. Encodage des données catégorielles\n"
   ]
  },
  {
   "cell_type": "raw",
   "id": "c4056ced",
   "metadata": {},
   "source": [
    "La colonne Genre contient des variables catégorielles, elle doit être encodée avant de construire le modèle.\n",
    "\n",
    "Pour encoder des données catégorielles, une variable fictive doit être créée pour chaque variable catégorique discrète dans chaque colonne, ce qui peut être fait en utilisant pandas.get_dummies() qui renverra des données codées fictives. En utilisant drop_first, nous pouvons supprimer la première variable factice."
   ]
  },
  {
   "cell_type": "code",
   "execution_count": 20,
   "id": "c2237cb1",
   "metadata": {},
   "outputs": [],
   "source": [
    "df = pd.get_dummies(df, columns = ['Gender'], drop_first=True)"
   ]
  },
  {
   "cell_type": "code",
   "execution_count": 21,
   "id": "cd50a900",
   "metadata": {},
   "outputs": [
    {
     "data": {
      "text/html": [
       "<div>\n",
       "<style scoped>\n",
       "    .dataframe tbody tr th:only-of-type {\n",
       "        vertical-align: middle;\n",
       "    }\n",
       "\n",
       "    .dataframe tbody tr th {\n",
       "        vertical-align: top;\n",
       "    }\n",
       "\n",
       "    .dataframe thead th {\n",
       "        text-align: right;\n",
       "    }\n",
       "</style>\n",
       "<table border=\"1\" class=\"dataframe\">\n",
       "  <thead>\n",
       "    <tr style=\"text-align: right;\">\n",
       "      <th></th>\n",
       "      <th>Age</th>\n",
       "      <th>EstimatedSalary</th>\n",
       "      <th>Purchased</th>\n",
       "      <th>Gender_Male</th>\n",
       "    </tr>\n",
       "  </thead>\n",
       "  <tbody>\n",
       "    <tr>\n",
       "      <th>0</th>\n",
       "      <td>19</td>\n",
       "      <td>19000</td>\n",
       "      <td>0</td>\n",
       "      <td>1</td>\n",
       "    </tr>\n",
       "    <tr>\n",
       "      <th>1</th>\n",
       "      <td>35</td>\n",
       "      <td>20000</td>\n",
       "      <td>0</td>\n",
       "      <td>1</td>\n",
       "    </tr>\n",
       "    <tr>\n",
       "      <th>2</th>\n",
       "      <td>26</td>\n",
       "      <td>43000</td>\n",
       "      <td>0</td>\n",
       "      <td>0</td>\n",
       "    </tr>\n",
       "    <tr>\n",
       "      <th>3</th>\n",
       "      <td>27</td>\n",
       "      <td>57000</td>\n",
       "      <td>0</td>\n",
       "      <td>0</td>\n",
       "    </tr>\n",
       "    <tr>\n",
       "      <th>4</th>\n",
       "      <td>19</td>\n",
       "      <td>76000</td>\n",
       "      <td>0</td>\n",
       "      <td>1</td>\n",
       "    </tr>\n",
       "  </tbody>\n",
       "</table>\n",
       "</div>"
      ],
      "text/plain": [
       "   Age  EstimatedSalary  Purchased  Gender_Male\n",
       "0   19            19000          0            1\n",
       "1   35            20000          0            1\n",
       "2   26            43000          0            0\n",
       "3   27            57000          0            0\n",
       "4   19            76000          0            1"
      ]
     },
     "execution_count": 21,
     "metadata": {},
     "output_type": "execute_result"
    }
   ],
   "source": [
    "df.head()"
   ]
  },
  {
   "cell_type": "markdown",
   "id": "94120ae3",
   "metadata": {},
   "source": [
    "# 8. Splitting Dataset\n"
   ]
  },
  {
   "cell_type": "code",
   "execution_count": 22,
   "id": "6e28d3b6",
   "metadata": {},
   "outputs": [],
   "source": [
    "X = df.drop(['Purchased'],axis = 1)\n",
    "y = df['Purchased']"
   ]
  },
  {
   "cell_type": "code",
   "execution_count": 23,
   "id": "044a417d",
   "metadata": {},
   "outputs": [],
   "source": [
    "X_train, X_test, y_train, y_test = train_test_split(X, y, test_size = 0.25, random_state = 0)"
   ]
  },
  {
   "cell_type": "raw",
   "id": "686abcdc",
   "metadata": {},
   "source": [
    "La mise à l'échelle des fonctionnalités met à l'échelle toutes vos fonctionnalités pour s'assurer qu'elles prennent toutes des valeurs sur la même échelle. Il empêche une caractéristique de dominer l'autre. Ici, si la mise à l'échelle des fonctionnalités n'est pas effectuée, le salaire estimé dominera l'âge.\n",
    "\n",
    "La mise à l'échelle des fonctionnalités est effectuée après avoir divisé l'ensemble de données en ensemble d'apprentissage et en ensemble de test, et elle est appliquée à l'ensemble d'apprentissage.\n",
    "\n",
    "Pour la mise à l'échelle des fonctionnalités, nous utilisons la méthode fit_transform () pour l'ensemble d'apprentissage et la méthode transform () pour l'ensemble de test.\n",
    "\n",
    "fit_transform() : - Il est appliqué uniquement pour l'ensemble d'apprentissage. Il contient deux méthodes fit() et transform(). Fit() fera tout le calcul mathématique et obtiendra la moyenne et l'écart type des données. Donc, cela n'est fait que pour l'ensemble d'apprentissage, car nous ne voulons pas que les valeurs des données de test soient connues par le modèle. Comme nous considérons les données de test comme des données réelles ou des données en direct. La méthode transform() appliquera les valeurs calculées à l'ensemble de données ou transformera les données pour les adapter au modèle.\n",
    "\n",
    "transform() :- La méthode transform() appliquée à l'ensemble de test et les données de test sont transformées ou mises à l'échelle à l'aide des paramètres de modèle qui ont été appris lors de l'application de la méthode d'ajustement à l'ensemble de données d'apprentissage."
   ]
  },
  {
   "cell_type": "markdown",
   "id": "458a72c6",
   "metadata": {},
   "source": [
    "# 10. K Nearest Neighbor(KNN)\n"
   ]
  },
  {
   "cell_type": "raw",
   "id": "7df911e5",
   "metadata": {},
   "source": [
    "\n",
    "K Nearest Neighbor (KNN) est un algorithme d'apprentissage supervisé utilisé pour les problèmes de classification ou de régression. Il est plus efficace pour les problèmes de classification et ici l'algorithme utilise K points les plus proches pour déterminer la classification d'un point de données. KNN est utilisé pour classer un point de données en fonction de la classification connue d'autres points de données.\n",
    "\n",
    "Les travaux de KNN considèrent que des choses similaires existent à proximité ou à distance et il n'est pas nécessaire de construire un modèle, car il règle plusieurs paramètres ou fait des hypothèses supplémentaires. KNN est polyvalent mais devient plus lent à mesure que les fonctionnalités augmentent."
   ]
  },
  {
   "cell_type": "code",
   "execution_count": 24,
   "id": "c6391522",
   "metadata": {},
   "outputs": [],
   "source": [
    "cols = X_train.columns"
   ]
  },
  {
   "cell_type": "code",
   "execution_count": 25,
   "id": "8094707c",
   "metadata": {},
   "outputs": [],
   "source": [
    "sc = StandardScaler()\n",
    "X_train = sc.fit_transform(X_train)\n",
    "X_test = sc.transform(X_test)\n",
    "\n",
    "X_train = pd.DataFrame(X_train,columns=cols)\n",
    "X_test = pd.DataFrame(X_test,columns=cols)"
   ]
  },
  {
   "cell_type": "code",
   "execution_count": 26,
   "id": "b7b03783",
   "metadata": {},
   "outputs": [
    {
     "data": {
      "text/plain": [
       "KNeighborsClassifier()"
      ]
     },
     "execution_count": 26,
     "metadata": {},
     "output_type": "execute_result"
    }
   ],
   "source": [
    "classifierKNN = KNeighborsClassifier(n_neighbors = 5, metric = 'minkowski', p = 2)\n",
    "classifierKNN.fit(X_train, y_train)"
   ]
  },
  {
   "cell_type": "code",
   "execution_count": 27,
   "id": "fddde0f2",
   "metadata": {},
   "outputs": [
    {
     "data": {
      "text/plain": [
       "array([0, 0, 0, 0, 0, 0, 0, 1, 0, 1, 0, 0, 0, 0, 0, 1, 0, 0, 1, 0, 0, 1,\n",
       "       0, 1, 0, 1, 0, 0, 0, 0, 0, 0, 1, 0, 0, 0, 0, 0, 0, 1, 0, 0, 0, 0,\n",
       "       1, 0, 0, 1, 0, 1, 1, 0, 0, 1, 1, 1, 0, 0, 1, 0, 0, 1, 0, 1, 0, 1,\n",
       "       0, 0, 0, 0, 1, 0, 0, 1, 0, 0, 0, 0, 1, 1, 1, 1, 0, 0, 1, 0, 0, 1,\n",
       "       1, 0, 0, 1, 0, 0, 0, 0, 0, 1, 1, 1], dtype=int64)"
      ]
     },
     "execution_count": 27,
     "metadata": {},
     "output_type": "execute_result"
    }
   ],
   "source": [
    "y_pred = classifierKNN.predict(X_test)\n",
    "y_pred"
   ]
  },
  {
   "cell_type": "markdown",
   "id": "7aed8c4d",
   "metadata": {},
   "source": [
    "# 10.1 Évaluation du classificateur KNN"
   ]
  },
  {
   "cell_type": "code",
   "execution_count": 28,
   "id": "032c0202",
   "metadata": {},
   "outputs": [
    {
     "name": "stdout",
     "output_type": "stream",
     "text": [
      "[[64  4]\n",
      " [ 3 29]]\n"
     ]
    }
   ],
   "source": [
    "cm1 = confusion_matrix(y_test,y_pred)\n",
    "print(cm1)"
   ]
  },
  {
   "cell_type": "code",
   "execution_count": 29,
   "id": "1dc8ba16",
   "metadata": {},
   "outputs": [
    {
     "data": {
      "image/png": "[encoded data removed]",
      "text/plain": [
       "<Figure size 432x288 with 2 Axes>"
      ]
     },
     "metadata": {
      "needs_background": "light"
     },
     "output_type": "display_data"
    }
   ],
   "source": [
    "sns.heatmap(cm1, annot=True, fmt='d', cmap='cool')\n",
    "plt.show()"
   ]
  },
  {
   "cell_type": "raw",
   "id": "128b736f",
   "metadata": {},
   "source": [
    "Sur 100, seulement 7 est mal prédit"
   ]
  },
  {
   "cell_type": "markdown",
   "id": "3e16fd49",
   "metadata": {},
   "source": [
    "# 10.2 Choisir une valeur K"
   ]
  },
  {
   "cell_type": "code",
   "execution_count": 31,
   "id": "40931f38",
   "metadata": {},
   "outputs": [],
   "source": [
    "error_rate = []\n",
    "\n",
    "for i in range(1,40):\n",
    "    \n",
    "    knn = KNeighborsClassifier(n_neighbors=i)\n",
    "    knn.fit(X_train,y_train)\n",
    "    pred_i = knn.predict(X_test)\n",
    "    error_rate.append(np.mean(pred_i != y_test))"
   ]
  },
  {
   "cell_type": "code",
   "execution_count": 32,
   "id": "e49e76a8",
   "metadata": {},
   "outputs": [
    {
     "data": {
      "text/plain": [
       "Text(0, 0.5, 'Error Rate')"
      ]
     },
     "execution_count": 32,
     "metadata": {},
     "output_type": "execute_result"
    },
    {
     "data": {
      "image/png": "[encoded data removed]",
      "text/plain": [
       "<Figure size 720x432 with 1 Axes>"
      ]
     },
     "metadata": {
      "needs_background": "light"
     },
     "output_type": "display_data"
    }
   ],
   "source": [
    "plt.figure(figsize=(10,6))\n",
    "plt.plot(range(1,40),error_rate,color='blue', linestyle='dashed', marker='X',\n",
    "         markerfacecolor='red', markersize=10)\n",
    "plt.title('Error Rate vs. K Value')\n",
    "plt.xlabel('K')\n",
    "plt.ylabel('Error Rate')"
   ]
  },
  {
   "cell_type": "raw",
   "id": "8f074e94",
   "metadata": {},
   "source": [
    "D'après le graphique, il est clair que de K = 5 à K = 18, le taux d'erreur est le plus bas et le taux d'erreur K = 35 est le maximum."
   ]
  },
  {
   "cell_type": "code",
   "execution_count": 33,
   "id": "ad0b288d",
   "metadata": {},
   "outputs": [
    {
     "name": "stdout",
     "output_type": "stream",
     "text": [
      "WITH K=10\n",
      "\n",
      "\n",
      "[[64  4]\n",
      " [ 3 29]]\n",
      "\n",
      "\n",
      "              precision    recall  f1-score   support\n",
      "\n",
      "           0       0.96      0.94      0.95        68\n",
      "           1       0.88      0.91      0.89        32\n",
      "\n",
      "    accuracy                           0.93       100\n",
      "   macro avg       0.92      0.92      0.92       100\n",
      "weighted avg       0.93      0.93      0.93       100\n",
      "\n",
      "\n",
      "\n"
     ]
    },
    {
     "data": {
      "image/png": "[encoded data removed]",
      "text/plain": [
       "<Figure size 432x288 with 2 Axes>"
      ]
     },
     "metadata": {
      "needs_background": "light"
     },
     "output_type": "display_data"
    }
   ],
   "source": [
    "knn1 = KNeighborsClassifier(n_neighbors=10)\n",
    "\n",
    "knn1.fit(X_train,y_train)\n",
    "pred1 = knn1.predict(X_test)\n",
    "\n",
    "print('WITH K=10')\n",
    "print('\\n')\n",
    "print(confusion_matrix(y_test,pred1))\n",
    "sns.heatmap(confusion_matrix(y_test,pred1), annot=True, fmt='d', cmap='cool')\n",
    "print('\\n')\n",
    "print(classification_report(y_test,pred1))\n",
    "print('\\n')"
   ]
  },
  {
   "cell_type": "raw",
   "id": "79187454",
   "metadata": {},
   "source": [
    "K = 5 et K = 10 ont la même exactitude, précision, rappel et score F1.\n",
    "C'est la même chose prédite à partir du graphique du taux d'erreur par rapport à la valeur K que K avec 5 à 10 aura le même résultat."
   ]
  },
  {
   "cell_type": "code",
   "execution_count": 34,
   "id": "757de589",
   "metadata": {},
   "outputs": [
    {
     "name": "stdout",
     "output_type": "stream",
     "text": [
      "WITH K=35\n",
      "\n",
      "\n",
      "[[65  3]\n",
      " [11 21]]\n",
      "\n",
      "\n",
      "              precision    recall  f1-score   support\n",
      "\n",
      "           0       0.86      0.96      0.90        68\n",
      "           1       0.88      0.66      0.75        32\n",
      "\n",
      "    accuracy                           0.86       100\n",
      "   macro avg       0.87      0.81      0.83       100\n",
      "weighted avg       0.86      0.86      0.85       100\n",
      "\n",
      "\n",
      "\n"
     ]
    },
    {
     "data": {
      "image/png": "[encoded data removed]",
      "text/plain": [
       "<Figure size 432x288 with 2 Axes>"
      ]
     },
     "metadata": {
      "needs_background": "light"
     },
     "output_type": "display_data"
    }
   ],
   "source": [
    "knn2 = KNeighborsClassifier(n_neighbors=35)\n",
    "\n",
    "knn2.fit(X_train,y_train)\n",
    "pred2 = knn2.predict(X_test)\n",
    "\n",
    "print('WITH K=35')\n",
    "print('\\n')\n",
    "print(confusion_matrix(y_test,pred2))\n",
    "sns.heatmap(confusion_matrix(y_test,pred2), annot=True, fmt='d', cmap='cool')\n",
    "print('\\n')\n",
    "print(classification_report(y_test,pred2))\n",
    "print('\\n')"
   ]
  },
  {
   "cell_type": "raw",
   "id": "fc2b5b4f",
   "metadata": {},
   "source": [
    "\n",
    "Avec K = 35, sur 100, 14 prédictions sont erronées et la précision est réduite à 86 %. De plus, le rappel de la catégorie achetée est descendu à 66 %. Il indique clairement si la valeur K est grande, KNN ne fonctionne pas efficacement."
   ]
  },
  {
   "cell_type": "markdown",
   "id": "6926b0db",
   "metadata": {},
   "source": [
    "# 11. Machine à vecteurs de support (SVM)"
   ]
  },
  {
   "cell_type": "raw",
   "id": "fba1a9f7",
   "metadata": {},
   "source": [
    "Support Vector Machine est un ensemble de méthodes d'apprentissage supervisé et est utilisé pour la classification, la régression et la détection des valeurs aberrantes. Le principal avantage de SVM est qu'il est efficace dans un espace de grande dimension même lorsque le nombre d'échantillons est inférieur au nombre de dimensions. Mais dans les cas où les dimensions sont supérieures au nombre d'échantillons, le surajustement est à éviter.\n",
    "\n",
    "L'objectif principal de l'algorithme SVM est de créer la meilleure ligne ou frontière de décision qui est l'hyperplan qui peut séparer l'espace à n dimensions en classes afin qu'il puisse placer le nouveau point de données dans la bonne catégorie à l'avenir.\n",
    "\n",
    "Contrairement aux autres classificateurs qui prêtent attention à tous les points, les machines à vecteurs de support se concentrent uniquement sur les points les plus difficiles à classer."
   ]
  },
  {
   "cell_type": "markdown",
   "id": "5c062976",
   "metadata": {},
   "source": [
    "# 11.1 hyperplan"
   ]
  },
  {
   "attachments": {},
   "cell_type": "markdown",
   "id": "cd295c25",
   "metadata": {},
   "source": [
    " Un hyperplan est un sous-espace dont la dimension est inférieure à celle de son espace ambiant ou de l'espace entourant l'objet. Si l'espace est\n",
    "\n",
    "3 dimensions alors ses hyperplans sont les plans 2 dimensions.\n",
    "2-dimensionnelles, ses hyperplans sont les droites 1-dimensionnelles.\n",
    "De dimension 1, son hyperplan est un point unique.\n",
    "Considérons une classification à deux classes, où l'étiquette appartient au rouge et au vert comme ci-dessous et les deux caractéristiques sont X1 et X2. Ici, si nous avons beaucoup d'options pour dessiner un hyperplan qui sépare les deux classes. Choisir le meilleur parmi ceux-ci revient à choisir l'hyperplan et à maximiser la marge entre les classes.\n",
    "\n",
    "Les points vectoriels qui sont sur la marge sont appelés vecteurs supports.\n"
   ]
  },
  {
   "cell_type": "markdown",
   "id": "27110826",
   "metadata": {},
   "source": [
    "# 11.2 Noyau SVM"
   ]
  },
  {
   "cell_type": "raw",
   "id": "da1d009c",
   "metadata": {},
   "source": [
    "\n",
    "SVM utilise un ensemble de fonctions mathématiques connues sous le nom de noyau pour créer une frontière de décision optimale en prenant des données en entrée. Le type de fonction de noyau le plus préféré est RBF. Parce qu'il est localisé et a une réponse finie le long de l'axe des x complet.\n",
    "\n",
    "Si les données sont trop similaires ou sont simplement difficiles à séparer pour une raison quelconque ou parce qu'elles sont non linéaires, la SVM avec le noyau peut ajouter une autre dimension avec un \"hyperplan\" qui peut séparer les points de données.\n",
    "\n",
    "Le noyau doit être « linéaire », « poly », « rbf », « sigmoïde », « précalculé » ou un appelable et « rbf » est la valeur par défaut."
   ]
  },
  {
   "cell_type": "markdown",
   "id": "39fc03ea",
   "metadata": {},
   "source": [
    "# 12. SVM avec noyau linéaire"
   ]
  },
  {
   "cell_type": "raw",
   "id": "2027197a",
   "metadata": {},
   "source": [
    "Ce noyau convient le mieux aux problèmes de classification où les données sont séparées linéairement comme le problème de classification de texte."
   ]
  },
  {
   "cell_type": "code",
   "execution_count": 35,
   "id": "74e87b8d",
   "metadata": {},
   "outputs": [
    {
     "data": {
      "text/plain": [
       "SVC(kernel='linear')"
      ]
     },
     "execution_count": 35,
     "metadata": {},
     "output_type": "execute_result"
    }
   ],
   "source": [
    "classifierLin = SVC(kernel = 'linear')\n",
    "classifierLin.fit(X_train, y_train)"
   ]
  },
  {
   "cell_type": "code",
   "execution_count": 36,
   "id": "4eed6ee4",
   "metadata": {},
   "outputs": [
    {
     "data": {
      "text/plain": [
       "'scale'"
      ]
     },
     "execution_count": 36,
     "metadata": {},
     "output_type": "execute_result"
    }
   ],
   "source": [
    "classifierLin.gamma"
   ]
  },
  {
   "cell_type": "code",
   "execution_count": 37,
   "id": "1e2ec91e",
   "metadata": {},
   "outputs": [
    {
     "data": {
      "text/plain": [
       "1.0"
      ]
     },
     "execution_count": 37,
     "metadata": {},
     "output_type": "execute_result"
    }
   ],
   "source": [
    "classifierLin.C"
   ]
  },
  {
   "cell_type": "code",
   "execution_count": 38,
   "id": "98ed7b83",
   "metadata": {},
   "outputs": [],
   "source": [
    "y_pred_svc = classifierLin.predict(X_test)"
   ]
  },
  {
   "cell_type": "code",
   "execution_count": 39,
   "id": "fc81e1ad",
   "metadata": {},
   "outputs": [
    {
     "data": {
      "text/plain": [
       "array([0, 0, 0, 0, 0, 0, 0, 1, 0, 0, 0, 0, 0, 0, 0, 0, 0, 0, 1, 0, 0, 1,\n",
       "       0, 1, 0, 1, 0, 0, 0, 0, 0, 0, 1, 0, 0, 0, 0, 0, 0, 0, 0, 0, 0, 0,\n",
       "       1, 0, 0, 1, 0, 1, 1, 0, 0, 0, 1, 0, 0, 0, 0, 0, 0, 1, 0, 0, 0, 1,\n",
       "       0, 0, 0, 0, 1, 0, 0, 0, 0, 0, 1, 0, 1, 1, 1, 1, 0, 0, 1, 1, 0, 1,\n",
       "       0, 0, 0, 1, 0, 0, 0, 0, 0, 0, 1, 1], dtype=int64)"
      ]
     },
     "execution_count": 39,
     "metadata": {},
     "output_type": "execute_result"
    }
   ],
   "source": [
    "y_pred_svc"
   ]
  },
  {
   "cell_type": "markdown",
   "id": "3c0b1d69",
   "metadata": {},
   "source": [
    "# 12.1 Évaluation de SVM avec le noyau linéaire"
   ]
  },
  {
   "cell_type": "raw",
   "id": "2afcfe11",
   "metadata": {},
   "source": [
    "****Matrice de confusion"
   ]
  },
  {
   "cell_type": "code",
   "execution_count": 40,
   "id": "1088ab2a",
   "metadata": {},
   "outputs": [
    {
     "name": "stdout",
     "output_type": "stream",
     "text": [
      "[[66  2]\n",
      " [ 9 23]]\n"
     ]
    }
   ],
   "source": [
    "cm2 = confusion_matrix(y_test, y_pred_svc)\n",
    "print(cm2)"
   ]
  },
  {
   "cell_type": "code",
   "execution_count": 41,
   "id": "e9ca0d70",
   "metadata": {},
   "outputs": [
    {
     "data": {
      "image/png": "[encoded data removed]",
      "text/plain": [
       "<Figure size 432x288 with 2 Axes>"
      ]
     },
     "metadata": {
      "needs_background": "light"
     },
     "output_type": "display_data"
    }
   ],
   "source": [
    "sns.heatmap(cm2, annot=True, fmt='d', cmap='cool')\n",
    "plt.show()"
   ]
  },
  {
   "cell_type": "raw",
   "id": "920b72e3",
   "metadata": {},
   "source": [
    "\n",
    "Sur 100, 11 sont mal prédits."
   ]
  },
  {
   "cell_type": "raw",
   "id": "4f546053",
   "metadata": {},
   "source": [
    "****Rapport de classification"
   ]
  },
  {
   "cell_type": "code",
   "execution_count": 42,
   "id": "a58e06b4",
   "metadata": {},
   "outputs": [
    {
     "name": "stdout",
     "output_type": "stream",
     "text": [
      "              precision    recall  f1-score   support\n",
      "\n",
      "           0       0.88      0.97      0.92        68\n",
      "           1       0.92      0.72      0.81        32\n",
      "\n",
      "    accuracy                           0.89       100\n",
      "   macro avg       0.90      0.84      0.87       100\n",
      "weighted avg       0.89      0.89      0.89       100\n",
      "\n"
     ]
    }
   ],
   "source": [
    "print(classification_report(y_test, y_pred_svc))"
   ]
  },
  {
   "cell_type": "raw",
   "id": "31d96f7d",
   "metadata": {},
   "source": [
    "Accuracy is 89% but recall for purchased is only 72%.\n"
   ]
  },
  {
   "cell_type": "markdown",
   "id": "fe543439",
   "metadata": {},
   "source": [
    "# 13. SVM avec fonction de base radiale du noyau"
   ]
  },
  {
   "cell_type": "raw",
   "id": "06a79de3",
   "metadata": {},
   "source": [
    "La fonction Kernel Radial Basis Function (RBF) est définie comme ci-dessous et le gamma doit être supérieur à zéro.\n"
   ]
  },
  {
   "cell_type": "code",
   "execution_count": 43,
   "id": "fa304051",
   "metadata": {},
   "outputs": [
    {
     "data": {
      "text/plain": [
       "SVC()"
      ]
     },
     "execution_count": 43,
     "metadata": {},
     "output_type": "execute_result"
    }
   ],
   "source": [
    "classifierrbf = SVC(kernel = 'rbf')\n",
    "classifierrbf.fit(X_train, y_train)"
   ]
  },
  {
   "cell_type": "code",
   "execution_count": 44,
   "id": "c21171e0",
   "metadata": {},
   "outputs": [
    {
     "data": {
      "text/plain": [
       "1.0"
      ]
     },
     "execution_count": 44,
     "metadata": {},
     "output_type": "execute_result"
    }
   ],
   "source": [
    "classifierrbf.C"
   ]
  },
  {
   "cell_type": "code",
   "execution_count": 45,
   "id": "e62bbb59",
   "metadata": {},
   "outputs": [
    {
     "data": {
      "text/plain": [
       "'scale'"
      ]
     },
     "execution_count": 45,
     "metadata": {},
     "output_type": "execute_result"
    }
   ],
   "source": [
    "classifierrbf.gamma"
   ]
  },
  {
   "cell_type": "code",
   "execution_count": 46,
   "id": "f5ace7bf",
   "metadata": {},
   "outputs": [
    {
     "data": {
      "text/plain": [
       "array([0, 0, 0, 0, 0, 0, 0, 1, 0, 1, 0, 0, 0, 0, 0, 1, 0, 0, 1, 0, 0, 1,\n",
       "       0, 1, 0, 1, 0, 0, 0, 0, 0, 0, 1, 0, 0, 0, 0, 0, 0, 1, 0, 0, 0, 0,\n",
       "       1, 0, 0, 1, 0, 1, 1, 0, 0, 1, 1, 1, 0, 0, 1, 0, 0, 1, 0, 1, 0, 1,\n",
       "       0, 0, 0, 0, 1, 0, 0, 1, 0, 0, 0, 0, 1, 1, 1, 1, 0, 0, 1, 0, 0, 1,\n",
       "       1, 0, 0, 1, 0, 0, 0, 0, 0, 1, 1, 1], dtype=int64)"
      ]
     },
     "execution_count": 46,
     "metadata": {},
     "output_type": "execute_result"
    }
   ],
   "source": [
    "y_pred_rbf = classifierrbf.predict(X_test)\n",
    "y_pred_rbf"
   ]
  },
  {
   "cell_type": "markdown",
   "id": "21fb3067",
   "metadata": {},
   "source": [
    "# 13.1 Évaluation de SVM avec RBF Kernel"
   ]
  },
  {
   "cell_type": "code",
   "execution_count": 47,
   "id": "b3280ec8",
   "metadata": {},
   "outputs": [
    {
     "name": "stdout",
     "output_type": "stream",
     "text": [
      "[[64  4]\n",
      " [ 3 29]]\n"
     ]
    }
   ],
   "source": [
    "cm3 = confusion_matrix(y_test, y_pred_rbf)\n",
    "print(cm3)"
   ]
  },
  {
   "cell_type": "raw",
   "id": "d9a96107",
   "metadata": {},
   "source": [
    "Sur 100, seulement 7 est mal prédit"
   ]
  },
  {
   "cell_type": "code",
   "execution_count": 48,
   "id": "b6f368bc",
   "metadata": {},
   "outputs": [
    {
     "name": "stdout",
     "output_type": "stream",
     "text": [
      "              precision    recall  f1-score   support\n",
      "\n",
      "           0       0.96      0.94      0.95        68\n",
      "           1       0.88      0.91      0.89        32\n",
      "\n",
      "    accuracy                           0.93       100\n",
      "   macro avg       0.92      0.92      0.92       100\n",
      "weighted avg       0.93      0.93      0.93       100\n",
      "\n"
     ]
    }
   ],
   "source": [
    "print(classification_report(y_test,y_pred_rbf))"
   ]
  },
  {
   "cell_type": "raw",
   "id": "d38df631",
   "metadata": {},
   "source": [
    "La précision globale est de 93 % et la précision, le rappel et le score F1 pour prédire la catégorie non achetée sont supérieurs à 94 % et pour la catégorie achetée, ils sont proches de 90 %."
   ]
  },
  {
   "cell_type": "markdown",
   "id": "76fc7735",
   "metadata": {},
   "source": [
    "# 15. GridSearch"
   ]
  },
  {
   "cell_type": "raw",
   "id": "2abe4dfb",
   "metadata": {},
   "source": [
    "    La recherche de grille est une sorte de processus de réglage, qui sélectionne les meilleurs paramètres pour un algorithme afin d'optimiser ses performances, mais son exécution prend assez de temps. Les paramètres de l'estimateur utilisé pour appliquer ces méthodes sont optimisés par une recherche de grille à validation croisée sur une grille de paramètres. GridSearchCV implémente une méthode \"fit\" et une méthode \"score\".\n",
    "\n",
    "Lors de la formation d'une SVM, deux paramètres doivent être pris en compte :\n",
    "\n",
    "* C\n",
    "\n",
    "* gamma\n",
    "\n",
    "En utilisant la recherche de grille, la meilleure valeur optimale pour C et gamma ainsi que le meilleur noyau pour SVM peuvent être trouvés.\n",
    "\n",
    "  ***Paramètre C\n",
    "L'implémentation SVC est basée sur libsvm (bibliothèque pour les machines à vecteurs de support). C est le paramètre de régularisation dans SVC et son flottant avec la valeur par défaut 1. La force de la régularisation est inversement proportionnelle à C. Elle doit être strictement positive.\n",
    "\n",
    "C détermine le compromis entre l'augmentation de la taille de la marge et la garantie que les points d'apprentissage se trouvent du bon côté de la marge. Si la valeur de C est petite, cela créera un hyperplan de séparation à plus grande marge sans faire attention, il classifiera plus de points de manière erronée, ce qui entraînera une grande erreur d'apprentissage. Alors que si la valeur de C est très grande, l'optimiseur choisira un hyperplan de séparation à marge plus petite qui classifiera correctement les points d'apprentissage mais peut conduire à un surajustement.\n",
    "\n",
    "Le choix de la valeur de C est critique dans SVC et peut être effectué par réglage d'hyperparamètres.\n",
    "\n",
    "   ***Paramètre gamma\n",
    "Les paramètres gamma peuvent être considérés comme l'inverse du rayon d'influence des échantillons sélectionnés par le modèle comme vecteurs de support et il s'agit du coefficient de noyau pour 'rbf', 'poly' et 'sigmoïde'. La valeur par défaut de gamma est 'échelle' et sa valeur est 1 / (n_features * X.var()).\n",
    "\n",
    "Lorsque le gamma est très petit, le modèle est trop contraint et ne peut pas capturer la complexité ou la « forme » des données. Mais la valeur plus élevée de gamma correspondra exactement aux points de données d'entraînement, mais entraînera un surajustement."
   ]
  },
  {
   "cell_type": "code",
   "execution_count": 49,
   "id": "b6a3cb8c",
   "metadata": {},
   "outputs": [],
   "source": [
    "g =GridSearchCV(estimator=SVC(),\n",
    "             param_grid={'C': [1, 10], 'gamma': [1,0.1,0.01,0.001,0.0001,1.1,1.2],'kernel': ('linear', 'rbf')})"
   ]
  },
  {
   "cell_type": "code",
   "execution_count": 50,
   "id": "4c1422ec",
   "metadata": {},
   "outputs": [
    {
     "data": {
      "text/plain": [
       "GridSearchCV(estimator=SVC(),\n",
       "             param_grid={'C': [1, 10],\n",
       "                         'gamma': [1, 0.1, 0.01, 0.001, 0.0001, 1.1, 1.2],\n",
       "                         'kernel': ('linear', 'rbf')})"
      ]
     },
     "execution_count": 50,
     "metadata": {},
     "output_type": "execute_result"
    }
   ],
   "source": [
    "g.fit(X_train,y_train)"
   ]
  },
  {
   "cell_type": "code",
   "execution_count": 51,
   "id": "57215c17",
   "metadata": {},
   "outputs": [
    {
     "data": {
      "text/plain": [
       "{'C': 1, 'gamma': 1, 'kernel': 'rbf'}"
      ]
     },
     "execution_count": 51,
     "metadata": {},
     "output_type": "execute_result"
    }
   ],
   "source": [
    "g.best_params_"
   ]
  },
  {
   "cell_type": "raw",
   "id": "a7d3ef59",
   "metadata": {},
   "source": [
    "Le meilleur paramètre pour SVM est Kernel rbf avec gamma =1 et C =1.\n"
   ]
  },
  {
   "cell_type": "code",
   "execution_count": 52,
   "id": "fd0bda82",
   "metadata": {},
   "outputs": [
    {
     "data": {
      "text/plain": [
       "SVC(C=1, gamma=1)"
      ]
     },
     "execution_count": 52,
     "metadata": {},
     "output_type": "execute_result"
    }
   ],
   "source": [
    "g.best_estimator_"
   ]
  },
  {
   "cell_type": "code",
   "execution_count": 53,
   "id": "934399a4",
   "metadata": {},
   "outputs": [],
   "source": [
    "grid_pred = g.predict(X_test)"
   ]
  },
  {
   "cell_type": "markdown",
   "id": "1289ec96",
   "metadata": {},
   "source": [
    "# 15.1 Évaluation avec Grid Search\n",
    "\n",
    "****Matrice de confusion\n"
   ]
  },
  {
   "cell_type": "code",
   "execution_count": 54,
   "id": "a1c59293",
   "metadata": {},
   "outputs": [
    {
     "name": "stdout",
     "output_type": "stream",
     "text": [
      "[[64  4]\n",
      " [ 3 29]]\n"
     ]
    }
   ],
   "source": [
    "print(confusion_matrix(y_test,grid_pred))"
   ]
  },
  {
   "cell_type": "code",
   "execution_count": 55,
   "id": "be776c4a",
   "metadata": {},
   "outputs": [
    {
     "data": {
      "image/png": "[encoded data removed]",
      "text/plain": [
       "<Figure size 432x288 with 2 Axes>"
      ]
     },
     "metadata": {
      "needs_background": "light"
     },
     "output_type": "display_data"
    }
   ],
   "source": [
    "sns.heatmap(confusion_matrix(y_test,grid_pred), annot=True, fmt='d', cmap='cool')\n",
    "plt.show()"
   ]
  },
  {
   "cell_type": "raw",
   "id": "9fc3c8ca",
   "metadata": {},
   "source": [
    "Out of 100, only 7 is wrongly predicted\n",
    "\n"
   ]
  },
  {
   "cell_type": "markdown",
   "id": "71e39bff",
   "metadata": {},
   "source": [
    "#\n",
    "****Classification Report\n"
   ]
  },
  {
   "cell_type": "code",
   "execution_count": 56,
   "id": "e9bacc0f",
   "metadata": {},
   "outputs": [
    {
     "name": "stdout",
     "output_type": "stream",
     "text": [
      "              precision    recall  f1-score   support\n",
      "\n",
      "           0       0.96      0.94      0.95        68\n",
      "           1       0.88      0.91      0.89        32\n",
      "\n",
      "    accuracy                           0.93       100\n",
      "   macro avg       0.92      0.92      0.92       100\n",
      "weighted avg       0.93      0.93      0.93       100\n",
      "\n"
     ]
    }
   ],
   "source": [
    "print(classification_report(y_test,grid_pred))"
   ]
  },
  {
   "cell_type": "raw",
   "id": "638a56d4",
   "metadata": {},
   "source": [
    "La précision globale est de 93 % et la précision, le rappel et le score F1 pour prédire la catégorie non achetée sont supérieurs à 94 % et pour la catégorie achetée, ils sont proches de 90 %.\n"
   ]
  },
  {
   "cell_type": "markdown",
   "id": "3a78dea9",
   "metadata": {},
   "source": [
    "# 16. Conclusion"
   ]
  },
  {
   "cell_type": "raw",
   "id": "1cbeba6e",
   "metadata": {},
   "source": [
    "* Le nombre de clients achetés via la publicité sur les réseaux sociaux est bien inférieur au nombre total de clients ayant vu la publicité.\n",
    "* 37,74 % des clientes ont acheté un produit via la publicité sur les réseaux sociaux, alors que seulement 33,67 % des clients masculins ont acheté via la publicité sur les réseaux sociaux.\n",
    "* Pour KNN, K = 5 à K = 18 ont le taux d'erreur le plus faible et K = 35 a le taux d'erreur maximum.\n",
    "Le meilleur paramètre pour SVM est Kernel rbf avec gamma =1 et C =1.\n",
    "* KNN avec le taux d'erreur le plus faible et SVM avec le meilleur paramètre d'optimisation ont globalement :\n",
    "-Précision 93%\n",
    "-Précision, rappel et score F1\n",
    " pour prédire que la catégorie non achetée est supérieure à 94 %\n",
    "-La précision, le rappel et le score F1 pour prédire la catégorie achetée sont proches de 90 %."
   ]
  }
 ],
 "metadata": {
  "kernelspec": {
   "display_name": "Python 3 (ipykernel)",
   "language": "python",
   "name": "python3"
  },
  "language_info": {
   "codemirror_mode": {
    "name": "ipython",
    "version": 3
   },
   "file_extension": ".py",
   "mimetype": "text/x-python",
   "name": "python",
   "nbconvert_exporter": "python",
   "pygments_lexer": "ipython3",
   "version": "3.9.7"
  }
 },
 "nbformat": 4,
 "nbformat_minor": 5
}
